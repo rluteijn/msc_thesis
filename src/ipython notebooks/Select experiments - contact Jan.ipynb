{
 "metadata": {
  "name": "",
  "signature": "sha256:419f7ef2a506610884f36ef8e259ba9dde8de98291753d74c19d75b4dcb0ae08"
 },
 "nbformat": 3,
 "nbformat_minor": 0,
 "worksheets": [
  {
   "cells": [
    {
     "cell_type": "code",
     "collapsed": false,
     "input": [
      "import numpy as np\n",
      "import matplotlib.pyplot as plt\n",
      "import seaborn as sns\n",
      "\n",
      "from expWorkbench import ema_logging, load_results, save_results\n",
      "from analysis.plotting import lines, KDE, envelopes\n",
      "from analysis import plotting, plotting_util\n",
      "from analysis.plotting import lines, KDE, kde_over_time, multiple_densities\n",
      "from analysis.pairs_plotting import pairs_scatter\n",
      "from analysis.plotting_util import plot_kde, ENVELOPE, ENV_LIN\n",
      "\n",
      "ema_logging.log_to_stderr(ema_logging.INFO);\n",
      "\n",
      "#load the data\n",
      "fn = r'C:\\Users\\rluteijn\\Documents\\GitHub\\msc_thesis\\src\\data\\500 runs 19 jan.tar.gz'\n",
      "experiments, outcomes = load_results(fn)\n",
      "results = (experiments, outcomes)\n"
     ],
     "language": "python",
     "metadata": {},
     "outputs": [
      {
       "output_type": "stream",
       "stream": "stderr",
       "text": [
        "[INFO/MainProcess] results loaded succesfully from C:\\Users\\rluteijn\\Documents\\GitHub\\msc_thesis\\src\\data\\500 runs 19 jan.tar.gz\n"
       ]
      }
     ],
     "prompt_number": 1
    },
    {
     "cell_type": "code",
     "collapsed": false,
     "input": [
      "outcome1 = outcomes[\"Output-FPR-end1\"]\n",
      "# print outcome1\n",
      "ooi = np.reshape(outcome1, (outcome1.shape[0]*outcome1.shape[1], outcome1.shape[2]))\n",
      "# print ooi\n",
      "ooi = outcome1[:,:,0]\n",
      "# print ooi\n",
      "value1 = 0\n",
      "\n",
      "logical = ooi != value1\n",
      "\n",
      "# temp_experiments = experiments[logical]\n",
      "temp_outcomes = {key:value[logical] for key, value in outcomes.iteritems()}\n",
      "# print temp_outcomes [\"Output-FPR-end1\"]\n",
      "\n",
      "print 'number of selected cases: {}'.format(np.sum(logical))\n",
      "\n",
      "# results1 = (temp_experiments, temp_outcomes)\n",
      "results1 = (experiments, temp_outcomes)\n",
      "\n",
      "fn = r'C:\\Users\\rluteijn\\Documents\\GitHub\\msc_thesis\\src\\data\\revised2.tar.gz'\n",
      "save_results(results1, fn)"
     ],
     "language": "python",
     "metadata": {},
     "outputs": [
      {
       "output_type": "stream",
       "stream": "stderr",
       "text": [
        "[INFO/MainProcess] results saved successfully to C:\\Users\\rluteijn\\Documents\\GitHub\\msc_thesis\\src\\data\\revised2.tar.gz\n"
       ]
      },
      {
       "output_type": "stream",
       "stream": "stdout",
       "text": [
        "number of selected cases: 1905\n"
       ]
      }
     ],
     "prompt_number": 2
    },
    {
     "cell_type": "code",
     "collapsed": false,
     "input": [],
     "language": "python",
     "metadata": {},
     "outputs": []
    }
   ],
   "metadata": {}
  }
 ]
}