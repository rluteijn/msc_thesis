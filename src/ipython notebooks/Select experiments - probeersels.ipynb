{
 "metadata": {
  "name": "",
  "signature": "sha256:fb7279fdb90e8e8f806eeb3f7d77c800d080ba1bb3dfb09d28f9705ffc8a7191"
 },
 "nbformat": 3,
 "nbformat_minor": 0,
 "worksheets": [
  {
   "cells": [
    {
     "cell_type": "code",
     "collapsed": false,
     "input": [
      "import numpy as np\n",
      "import matplotlib.pyplot as plt\n",
      "import seaborn as sns\n",
      "\n",
      "from expWorkbench import ema_logging, load_results, save_results\n",
      "from analysis.plotting import lines, KDE, envelopes\n",
      "from analysis import plotting, plotting_util\n",
      "from analysis.plotting import lines, KDE, kde_over_time, multiple_densities\n",
      "from analysis.pairs_plotting import pairs_scatter\n",
      "from analysis.plotting_util import plot_kde, ENVELOPE, ENV_LIN\n",
      "\n",
      "ema_logging.log_to_stderr(ema_logging.INFO);\n",
      "\n",
      "#load the data\n",
      "fn = r'C:\\Users\\rluteijn\\Documents\\GitHub\\msc_thesis\\src\\data\\8 runs 19 jan.tar.gz'\n",
      "experiments, outcomes = load_results(fn)\n",
      "results = (experiments, outcomes)\n"
     ],
     "language": "python",
     "metadata": {},
     "outputs": [
      {
       "output_type": "stream",
       "stream": "stderr",
       "text": [
        "[INFO/MainProcess] results loaded succesfully from C:\\Users\\rluteijn\\Documents\\GitHub\\msc_thesis\\src\\data\\8 runs 19 jan.tar.gz\n"
       ]
      }
     ],
     "prompt_number": 1
    },
    {
     "cell_type": "code",
     "collapsed": false,
     "input": [
      "fig, axesdict = pairs_scatter(results, \n",
      "                  outcomes_to_show = [\n",
      "                            \"output-polarisation\",\n",
      "                            \"output-conflict-level\",\n",
      "                    ],\n",
      "                  group_by = None,\n",
      "                  grouping_specifiers = None,\n",
      "                  ylabels = {},\n",
      "                  legend=True,\n",
      "                  point_in_time=-1,\n",
      "                  filter_scalar=True\n",
      "                  )\n",
      "plt.show()"
     ],
     "language": "python",
     "metadata": {},
     "outputs": [
      {
       "ename": "KeyError",
       "evalue": "'output-conflict-level'",
       "output_type": "pyerr",
       "traceback": [
        "\u001b[1;31m---------------------------------------------------------------------------\u001b[0m\n\u001b[1;31mKeyError\u001b[0m                                  Traceback (most recent call last)",
        "\u001b[1;32m<ipython-input-9-37f30b953169>\u001b[0m in \u001b[0;36m<module>\u001b[1;34m()\u001b[0m\n\u001b[0;32m      9\u001b[0m                   \u001b[0mlegend\u001b[0m\u001b[1;33m=\u001b[0m\u001b[0mTrue\u001b[0m\u001b[1;33m,\u001b[0m\u001b[1;33m\u001b[0m\u001b[0m\n\u001b[0;32m     10\u001b[0m                   \u001b[0mpoint_in_time\u001b[0m\u001b[1;33m=\u001b[0m\u001b[1;33m-\u001b[0m\u001b[1;36m1\u001b[0m\u001b[1;33m,\u001b[0m\u001b[1;33m\u001b[0m\u001b[0m\n\u001b[1;32m---> 11\u001b[1;33m                   \u001b[0mfilter_scalar\u001b[0m\u001b[1;33m=\u001b[0m\u001b[0mTrue\u001b[0m\u001b[1;33m\u001b[0m\u001b[0m\n\u001b[0m\u001b[0;32m     12\u001b[0m                   )\n\u001b[0;32m     13\u001b[0m \u001b[0mplt\u001b[0m\u001b[1;33m.\u001b[0m\u001b[0mshow\u001b[0m\u001b[1;33m(\u001b[0m\u001b[1;33m)\u001b[0m\u001b[1;33m\u001b[0m\u001b[0m\n",
        "\u001b[1;32mC:\\Users\\rluteijn\\Documents\\GitHub\\EMAworkbench\\src\\analysis\\pairs_plotting.pyc\u001b[0m in \u001b[0;36mpairs_scatter\u001b[1;34m(results, outcomes_to_show, group_by, grouping_specifiers, ylabels, legend, point_in_time, filter_scalar, **kwargs)\u001b[0m\n\u001b[0;32m    375\u001b[0m     prepared_data = prepare_pairs_data(results, outcomes_to_show, group_by, \n\u001b[0;32m    376\u001b[0m                                        \u001b[0mgrouping_specifiers\u001b[0m\u001b[1;33m,\u001b[0m \u001b[0mpoint_in_time\u001b[0m\u001b[1;33m,\u001b[0m\u001b[1;33m\u001b[0m\u001b[0m\n\u001b[1;32m--> 377\u001b[1;33m                                        filter_scalar)\n\u001b[0m\u001b[0;32m    378\u001b[0m     \u001b[0moutcomes\u001b[0m\u001b[1;33m,\u001b[0m \u001b[0moutcomes_to_show\u001b[0m\u001b[1;33m,\u001b[0m \u001b[0mgrouping_labels\u001b[0m \u001b[1;33m=\u001b[0m \u001b[0mprepared_data\u001b[0m\u001b[1;33m\u001b[0m\u001b[0m\n\u001b[0;32m    379\u001b[0m \u001b[1;33m\u001b[0m\u001b[0m\n",
        "\u001b[1;32mC:\\Users\\rluteijn\\Documents\\GitHub\\EMAworkbench\\src\\analysis\\plotting_util.pyc\u001b[0m in \u001b[0;36mprepare_pairs_data\u001b[1;34m(results, outcomes_to_show, group_by, grouping_specifiers, point_in_time, filter_scalar)\u001b[0m\n\u001b[0;32m    569\u001b[0m                                                         \u001b[0mgroup_by\u001b[0m\u001b[1;33m,\u001b[0m\u001b[1;33m\u001b[0m\u001b[0m\n\u001b[0;32m    570\u001b[0m                                                         \u001b[0mgrouping_specifiers\u001b[0m\u001b[1;33m,\u001b[0m\u001b[1;33m\u001b[0m\u001b[0m\n\u001b[1;32m--> 571\u001b[1;33m                                                         filter_scalar)\n\u001b[0m\u001b[0;32m    572\u001b[0m \u001b[1;33m\u001b[0m\u001b[0m\n\u001b[0;32m    573\u001b[0m     \u001b[1;32mdef\u001b[0m \u001b[0mfilter_outcomes\u001b[0m\u001b[1;33m(\u001b[0m\u001b[0moutcomes\u001b[0m\u001b[1;33m,\u001b[0m \u001b[0mpoint_in_time\u001b[0m\u001b[1;33m)\u001b[0m\u001b[1;33m:\u001b[0m\u001b[1;33m\u001b[0m\u001b[0m\n",
        "\u001b[1;32mC:\\Users\\rluteijn\\Documents\\GitHub\\EMAworkbench\\src\\analysis\\plotting_util.pyc\u001b[0m in \u001b[0;36mprepare_data\u001b[1;34m(results, outcomes_to_show, group_by, grouping_specifiers, filter_scalar)\u001b[0m\n\u001b[0;32m    621\u001b[0m \u001b[1;33m\u001b[0m\u001b[0m\n\u001b[0;32m    622\u001b[0m         \u001b[1;32mfor\u001b[0m \u001b[0mentry\u001b[0m \u001b[1;32min\u001b[0m \u001b[0moutcomes_to_show\u001b[0m\u001b[1;33m:\u001b[0m\u001b[1;33m\u001b[0m\u001b[0m\n\u001b[1;32m--> 623\u001b[1;33m             \u001b[0mtemp_outcomes\u001b[0m\u001b[1;33m[\u001b[0m\u001b[0mentry\u001b[0m\u001b[1;33m]\u001b[0m \u001b[1;33m=\u001b[0m \u001b[0mcopy\u001b[0m\u001b[1;33m.\u001b[0m\u001b[0mdeepcopy\u001b[0m\u001b[1;33m(\u001b[0m\u001b[0moutcomes\u001b[0m\u001b[1;33m[\u001b[0m\u001b[0mentry\u001b[0m\u001b[1;33m]\u001b[0m\u001b[1;33m)\u001b[0m\u001b[1;33m\u001b[0m\u001b[0m\n\u001b[0m\u001b[0;32m    624\u001b[0m \u001b[1;33m\u001b[0m\u001b[0m\n\u001b[0;32m    625\u001b[0m \u001b[1;31m# #         [outcomes.pop(entry) for entry in\\\u001b[0m\u001b[1;33m\u001b[0m\u001b[1;33m\u001b[0m\u001b[0m\n",
        "\u001b[1;31mKeyError\u001b[0m: 'output-conflict-level'"
       ]
      }
     ],
     "prompt_number": 9
    },
    {
     "cell_type": "code",
     "collapsed": false,
     "input": [],
     "language": "python",
     "metadata": {},
     "outputs": []
    }
   ],
   "metadata": {}
  }
 ]
}